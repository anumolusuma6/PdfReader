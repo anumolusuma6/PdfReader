{
 "cells": [
  {
   "cell_type": "code",
   "execution_count": null,
   "metadata": {},
   "outputs": [],
   "source": [
    "\n",
    "import PyPDF2\n",
    "\n"
   ]
  },
  {
   "cell_type": "code",
   "execution_count": null,
   "metadata": {},
   "outputs": [],
   "source": [
    "file=open(\"path\", \"rb\")\n"
   ]
  },
  {
   "cell_type": "code",
   "execution_count": null,
   "metadata": {},
   "outputs": [],
   "source": [
    "reader=PyPDF2.PdfReader(file)\n",
    "namepage= reader.pages[0]\n",
    "text=namepage.extract_text()\n",
    "print(text)"
   ]
  },
  {
   "cell_type": "code",
   "execution_count": null,
   "metadata": {},
   "outputs": [],
   "source": [
    "#find your text\n",
    "dates_of_service_index = text.find(\"Dates of Service\")\n",
    "    \n",
    "if dates_of_service_index != -1:\n",
    "        print(\"Dates of Service section exists\")\n",
    "else:\n",
    "        print(\"Dates of Service section does not exist\")\n",
    "        "
   ]
  },
  {
   "cell_type": "code",
   "execution_count": null,
   "metadata": {},
   "outputs": [],
   "source": [
    "#find the text after your serach word\n",
    "text_after_dates_of_service = text[dates_of_service_index:]\n",
    "\n",
    "# Find the index of the next occurrence of \":\" after \"Dates of Service\"\n",
    "next_colon_index = text_after_dates_of_service.find(\":\")\n",
    "\n",
    "# Extract the words after the next occurrence of \":\"\n",
    "words_after_colon = text_after_dates_of_service[next_colon_index+1:].strip().split()\n",
    "            \n",
    "# Extract the first two words\n",
    "if len(words_after_colon) >= 2:\n",
    "    name = ' '.join(words_after_colon[:2])\n",
    "    print(\"First two words after Dates of Service:\", name)\n",
    "else:\n",
    "    print(\"Not enough words after Dates of Service\")\n",
    "\n"
   ]
  },
  {
   "cell_type": "code",
   "execution_count": null,
   "metadata": {},
   "outputs": [],
   "source": []
  }
 ],
 "metadata": {
  "kernelspec": {
   "display_name": "Python 3",
   "language": "python",
   "name": "python3"
  },
  "language_info": {
   "codemirror_mode": {
    "name": "ipython",
    "version": 3
   },
   "file_extension": ".py",
   "mimetype": "text/x-python",
   "name": "python",
   "nbconvert_exporter": "python",
   "pygments_lexer": "ipython3",
   "version": "3.11.9"
  }
 },
 "nbformat": 4,
 "nbformat_minor": 2
}
